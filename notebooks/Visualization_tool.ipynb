{
 "cells": [
  {
   "cell_type": "code",
   "execution_count": null,
   "metadata": {
    "colab": {
     "base_uri": "https://localhost:8080/",
     "height": 289
    },
    "colab_type": "code",
    "id": "c_Gt_V6nOQV9",
    "outputId": "dea70984-4001-4349-e1cf-cc564223f12d"
   },
   "outputs": [],
   "source": [
    "from google.colab import drive\n",
    "drive.mount('/content/gdrive/', force_remount=True)"
   ]
  },
  {
   "cell_type": "code",
   "execution_count": null,
   "metadata": {
    "colab": {
     "base_uri": "https://localhost:8080/",
     "height": 122
    },
    "colab_type": "code",
    "id": "cdnbU57EOT9B",
    "outputId": "e4756776-008d-4478-80f1-ec1a4c836585"
   },
   "outputs": [],
   "source": [
    "!pip install geopandas\n",
    "%cd /content/gdrive/My\\ Drive/namib_landuse\n",
    "%ls\n",
    "!git pull"
   ]
  },
  {
   "cell_type": "code",
   "execution_count": 1,
   "metadata": {
    "colab": {},
    "colab_type": "code",
    "id": "_2Fs5v-HOWCb"
   },
   "outputs": [],
   "source": [
    "import sys\n",
    "from pathlib import Path\n",
    "\n",
    "################################################################################\n",
    "# THIS IS A LOCAL PATH AND MAY NEED TO BE RESET\n",
    "project_path = Path(\"/content/gdrive/My Drive/namib_landuse/\")\n",
    "sys.path.insert(0, str(project_path))\n",
    "DATA_ROOT = project_path / \"data\"\n",
    "################################################################################\n",
    "\n",
    "# import geopandas as gpd\n",
    "#from bokeh.plotting import figure, show\n",
    "import land_utils\n",
    "import viz_utils as vutils\n",
    "from viz_utils import EXPORT_SELECTION\n",
    "\n",
    "args = {'project_path': project_path}\n",
    "blocks_path = Path(DATA_ROOT) / \"Windhoek\" / \"processed_data\" / \"Windhoek_existing_blocks.v2.geojson\" "
   ]
  },
  {
   "cell_type": "markdown",
   "metadata": {},
   "source": [
    "## 1. Interactive explorer\n",
    "We can identify blocks within Windhoek by filtering on two competing criteria:\n",
    "- First, the building density, so the percentage of the ground covered by buildings \n",
    "- Second, the size of the largest continuous available piece of land\n",
    "\n",
    "NOTE: if you hover over a block with your mouse, it will show you the statistics and the block-id. This can be useful to guide your search."
   ]
  },
  {
   "cell_type": "code",
   "execution_count": 5,
   "metadata": {
    "colab": {
     "base_uri": "https://localhost:8080/",
     "height": 1000
    },
    "colab_type": "code",
    "id": "tPmbQzzi70BH",
    "outputId": "8bc0695e-cde9-4d4b-d8e1-bf455797b3fa"
   },
   "outputs": [],
   "source": [
    "# Run this via 'shift + Enter' to create the Interactive Explorer tool\n",
    "from bokeh.io import output_notebook, show\n",
    "output_notebook()\n",
    "layout, blocks = vutils.make_explorer(blocks_path)\n",
    "show(layout)"
   ]
  },
  {
   "cell_type": "markdown",
   "metadata": {},
   "source": [
    "## 2. Save and export a report based on your search parameters\n",
    "After we have found search parameters that we like, we can export the geometries for the blocks. This saves the specified blocks out to geojson format, a standard file type which can be visualized in any typical geospatial software. In the code block below, you must enter your export criteria. They are:\n",
    " - 'search_name': the name of the output file\n",
    " - 'density_minimum': the minimum density of a block\n",
    " - 'density_maximum': the maximum density of a block\n",
    " - 'area_minimum': the minimum free area \n",
    " - 'area_maximum': the maximum free area\n",
    " - 'block_list': maybe you identify some parameters you like but you see a block that you want to add that doesn't fit into those. So you can manually add the block by looking at the block-id from the hover tool in the explorer"
   ]
  },
  {
   "cell_type": "code",
   "execution_count": 1,
   "metadata": {},
   "outputs": [
    {
     "ename": "NameError",
     "evalue": "name 'args' is not defined",
     "output_type": "error",
     "traceback": [
      "\u001b[0;31m---------------------------------------------------------------------------\u001b[0m",
      "\u001b[0;31mNameError\u001b[0m                                 Traceback (most recent call last)",
      "\u001b[0;32m<ipython-input-1-ee9a55afe865>\u001b[0m in \u001b[0;36m<module>\u001b[0;34m\u001b[0m\n\u001b[0;32m----> 1\u001b[0;31m \u001b[0margs\u001b[0m\u001b[0;34m[\u001b[0m\u001b[0;34m'search_name'\u001b[0m\u001b[0;34m]\u001b[0m \u001b[0;34m=\u001b[0m \u001b[0;34m\"COOPERS_FIRST_SEARCH\"\u001b[0m\u001b[0;34m\u001b[0m\u001b[0;34m\u001b[0m\u001b[0m\n\u001b[0m\u001b[1;32m      2\u001b[0m \u001b[0margs\u001b[0m\u001b[0;34m[\u001b[0m\u001b[0;34m'density_minimum'\u001b[0m\u001b[0;34m]\u001b[0m \u001b[0;34m=\u001b[0m \u001b[0;36m.90\u001b[0m\u001b[0;34m\u001b[0m\u001b[0;34m\u001b[0m\u001b[0m\n\u001b[1;32m      3\u001b[0m \u001b[0margs\u001b[0m\u001b[0;34m[\u001b[0m\u001b[0;34m'density_maximum'\u001b[0m\u001b[0;34m]\u001b[0m \u001b[0;34m=\u001b[0m \u001b[0;32mNone\u001b[0m \u001b[0;31m#1\u001b[0m\u001b[0;34m\u001b[0m\u001b[0;34m\u001b[0m\u001b[0m\n\u001b[1;32m      4\u001b[0m \u001b[0;34m\u001b[0m\u001b[0m\n\u001b[1;32m      5\u001b[0m \u001b[0margs\u001b[0m\u001b[0;34m[\u001b[0m\u001b[0;34m'area_minimum'\u001b[0m\u001b[0;34m]\u001b[0m \u001b[0;34m=\u001b[0m \u001b[0;36m159.03\u001b[0m\u001b[0;34m\u001b[0m\u001b[0;34m\u001b[0m\u001b[0m\n",
      "\u001b[0;31mNameError\u001b[0m: name 'args' is not defined"
     ]
    }
   ],
   "source": [
    "args['search_name'] = \"COOPERS_FIRST_SEARCH\"\n",
    "args['density_minimum'] = .90\n",
    "args['density_maximum'] = 1\n",
    "\n",
    "args['area_minimum'] = 159.03\n",
    "args['area_maximum'] = 9446.13\n",
    "\n",
    "args['block_list'] = ['NAM.5.10_1_732']\n",
    "args['data'] = blocks"
   ]
  },
  {
   "cell_type": "code",
   "execution_count": 9,
   "metadata": {},
   "outputs": [
    {
     "name": "stdout",
     "output_type": "stream",
     "text": [
      "Selecting 284 blocks based on search criteria\n",
      "Hand selected 1 more blocks\n",
      "Selecting 285 total blocks in report\n",
      "\n",
      "Saved to: /home/cooper/Documents/chicago_urban/mnp/namib_landuse/data/exported/MY_TEST.v4.geojson\n"
     ]
    }
   ],
   "source": [
    "EXPORT_SELECTION(**args)"
   ]
  },
  {
   "cell_type": "code",
   "execution_count": null,
   "metadata": {},
   "outputs": [],
   "source": []
  }
 ],
 "metadata": {
  "colab": {
   "collapsed_sections": [],
   "name": "Visualization_tool.ipynb",
   "provenance": []
  },
  "kernelspec": {
   "display_name": "geo",
   "language": "python",
   "name": "geo"
  },
  "language_info": {
   "codemirror_mode": {
    "name": "ipython",
    "version": 3
   },
   "file_extension": ".py",
   "mimetype": "text/x-python",
   "name": "python",
   "nbconvert_exporter": "python",
   "pygments_lexer": "ipython3",
   "version": "3.8.2"
  }
 },
 "nbformat": 4,
 "nbformat_minor": 1
}
