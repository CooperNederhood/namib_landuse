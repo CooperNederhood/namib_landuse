{
 "cells": [
  {
   "cell_type": "code",
   "execution_count": null,
   "metadata": {
    "colab": {
     "base_uri": "https://localhost:8080/",
     "height": 289
    },
    "colab_type": "code",
    "id": "c_Gt_V6nOQV9",
    "outputId": "dea70984-4001-4349-e1cf-cc564223f12d"
   },
   "outputs": [],
   "source": [
    "from google.colab import drive\n",
    "drive.mount('/content/gdrive/', force_remount=True)"
   ]
  },
  {
   "cell_type": "code",
   "execution_count": null,
   "metadata": {
    "colab": {
     "base_uri": "https://localhost:8080/",
     "height": 122
    },
    "colab_type": "code",
    "id": "cdnbU57EOT9B",
    "outputId": "e4756776-008d-4478-80f1-ec1a4c836585"
   },
   "outputs": [],
   "source": [
    "!pip install geopandas\n",
    "%cd /content/gdrive/My\\ Drive/namib_landuse\n",
    "%ls\n",
    "!git pull"
   ]
  },
  {
   "cell_type": "code",
   "execution_count": 1,
   "metadata": {
    "colab": {},
    "colab_type": "code",
    "id": "_2Fs5v-HOWCb"
   },
   "outputs": [],
   "source": [
    "import sys\n",
    "from pathlib import Path\n",
    "\n",
    "################################################################################\n",
    "# THIS IS A LOCAL PATH AND MAY NEED TO BE RESET\n",
    "project_path = Path(\"/content/gdrive/My Drive/namib_landuse/\")\n",
    "sys.path.insert(0, str(project_path))\n",
    "DATA_ROOT = project_path / \"data\"\n",
    "################################################################################\n",
    "\n",
    "# import geopandas as gpd\n",
    "#from bokeh.plotting import figure, show\n",
    "import land_utils\n",
    "import viz_utils as vutils\n",
    "from viz_utils import EXPORT_SELECTION\n",
    "\n",
    "args = {'project_path': project_path}\n",
    "blocks_path = Path(DATA_ROOT) / \"Windhoek\" / \"processed_data\" / \"Windhoek_existing_blocks.geojson\" "
   ]
  },
  {
   "cell_type": "markdown",
   "metadata": {},
   "source": [
    "## 1. Interactive explorer"
   ]
  },
  {
   "cell_type": "code",
   "execution_count": 5,
   "metadata": {
    "colab": {
     "base_uri": "https://localhost:8080/",
     "height": 1000
    },
    "colab_type": "code",
    "id": "tPmbQzzi70BH",
    "outputId": "8bc0695e-cde9-4d4b-d8e1-bf455797b3fa"
   },
   "outputs": [],
   "source": [
    "# Run this via 'shift + Enter' to create the Interactive Explorer tool\n",
    "from bokeh.io import output_notebook, show\n",
    "output_notebook()\n",
    "layout, blocks = vutils.make_explorer(blocks_path)\n",
    "show(layout)"
   ]
  },
  {
   "cell_type": "markdown",
   "metadata": {},
   "source": [
    "## 2. Save and export a report based on your search parameters"
   ]
  },
  {
   "cell_type": "code",
   "execution_count": 8,
   "metadata": {},
   "outputs": [],
   "source": [
    "args['search_name'] = \"COOPERS_FIRST_SEARCH\"\n",
    "args['density_minimum'] = .10\n",
    "args['density_maximum'] = 1\n",
    "\n",
    "args['area_minimum'] = 159.03\n",
    "args['area_maximum'] = 9446.13\n",
    "\n",
    "args['block_list'] = ['NAM.5.10_1_732']\n",
    "args['data'] = blocks"
   ]
  },
  {
   "cell_type": "code",
   "execution_count": 9,
   "metadata": {},
   "outputs": [
    {
     "name": "stdout",
     "output_type": "stream",
     "text": [
      "Selecting 284 blocks based on search criteria\n",
      "Hand selected 1 more blocks\n",
      "Selecting 285 total blocks in report\n",
      "\n",
      "Saved to: /home/cooper/Documents/chicago_urban/mnp/namib_landuse/data/exported/MY_TEST.v4.geojson\n"
     ]
    }
   ],
   "source": [
    "EXPORT_SELECTION(**args)"
   ]
  },
  {
   "cell_type": "code",
   "execution_count": null,
   "metadata": {},
   "outputs": [],
   "source": []
  }
 ],
 "metadata": {
  "colab": {
   "collapsed_sections": [],
   "name": "Visualization_tool.ipynb",
   "provenance": []
  },
  "kernelspec": {
   "display_name": "geo",
   "language": "python",
   "name": "geo"
  },
  "language_info": {
   "codemirror_mode": {
    "name": "ipython",
    "version": 3
   },
   "file_extension": ".py",
   "mimetype": "text/x-python",
   "name": "python",
   "nbconvert_exporter": "python",
   "pygments_lexer": "ipython3",
   "version": "3.8.2"
  }
 },
 "nbformat": 4,
 "nbformat_minor": 1
}
